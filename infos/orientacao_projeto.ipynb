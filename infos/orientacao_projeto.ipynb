{
 "cells": [
  {
   "cell_type": "markdown",
   "metadata": {},
   "source": [
    "# Objetivo\n",
    "\n",
    "\n",
    "O objetivo deste produto é fornecer um serviço automatizado que recomenda leads para um usuário dado sua atual lista de clientes (Portfólio)."
   ]
  },
  {
   "cell_type": "markdown",
   "metadata": {},
   "source": [
    "# Contextualização\n",
    "\n",
    "\n",
    "Algumas empresas gostariam de saber quem são as demais empresas em um determinado mercado (população) que tem maior probabilidade se tornarem seus próximos clientes. Ou seja, a sua solução deve encontrar no mercado quem são os leads mais aderentes dado as características dos clientes presentes no portfólio do usuário.\n",
    "\n",
    "Além disso, sua solução deve ser agnóstica ao usuário. Qualquer usuário com uma lista de clientes que queira explorar esse mercado pode extrair valor do serviço.\n",
    "\n",
    "Para o desafio, deverão ser consideradas as seguintes bases:\n",
    "\n",
    "* Mercado: Base com informações sobre as empresas do Mercado a ser considerado.\n",
    "* Portfolio 1: Ids dos clientes da empresa 1 \n",
    "* Portfolio 2: Ids dos clientes da empresa 2 \n",
    "* Portfolio 3: Ids dos clientes da empresa 3\n",
    "\n",
    "Obs: todas as empresas(ids) dos portfolios estão contidos no Mercado(base de população).\n",
    "\n",
    "Link para download das bases Mercado, Portfolio 1, Portfolio 2 e Portfolio 3 respectivamente:\n",
    "\n",
    "https://codenation-challenges.s3-us-west-1.amazonaws.com/ml-leads/estaticos_market.csv.zip\n",
    "\n",
    "https://codenation-challenges.s3-us-west-1.amazonaws.com/ml-leads/estaticos_portfolio1.csv\n",
    "\n",
    "https://codenation-challenges.s3-us-west-1.amazonaws.com/ml-leads/estaticos_portfolio2.csv\n",
    "\n",
    "https://codenation-challenges.s3-us-west-1.amazonaws.com/ml-leads/estaticos_portfolio3.csv"
   ]
  },
  {
   "cell_type": "markdown",
   "metadata": {},
   "source": [
    "As bases de portfólio poderão ser utilizadas para testar a aderência da solução. Além disso, se a equipe desejar, poderá simular portfólios por meio de amostragens no mercado.\n",
    "\n",
    "Descrição de variáveis:\n",
    "https://s3-us-west-1.amazonaws.com/codenation-challenges/ml-leads/features_dictionary.pdf"
   ]
  },
  {
   "cell_type": "markdown",
   "metadata": {},
   "source": [
    "# Requisitos técnicos obrigatórios\n",
    "\n",
    "\n",
    "* Utilizar técnicas de data science e machine learning para desenvolver o projeto;\n",
    "Apresentar o desenvolvimento e outputs do modelo em um Jupyter Notebook ou outra tecnologia de apresentação de Output de modelos de Machine Learning;\n",
    "\n",
    "\n",
    "* A análise deve considerar os seguintes pontos: análise exploratória dos dados, tratamento dos dados, avaliação de algoritmos, treinamento do modelo, avaliação de performance do modelo e visualização dos resultados;\n",
    "\n",
    "\n",
    "* Para a apresentação do projeto, o tempo entre o treinamento do modelo e o output deve ser menor que 20 min.\n",
    "\n",
    "\n",
    "* Sugerido fazer um demo (streamlit), por exemplo, o modelo treinado no streamlit classifica um ponto adicionado.\n"
   ]
  },
  {
   "cell_type": "code",
   "execution_count": null,
   "metadata": {},
   "outputs": [],
   "source": []
  },
  {
   "cell_type": "markdown",
   "metadata": {},
   "source": [
    "# Problema: geração de Leads\n",
    "\n",
    "**Geração de leads** é um termo de **marketing** usado para descrever o **início do interesse ou possível cliente** num determinado **produto ou serviço de uma empresa**. As Leads são contatos que demonstraram interesse por algum tipo de produto ou serviço.\n",
    "\n",
    "Gerar leads significa captar potenciais clientes para um negócio. \n",
    "\n",
    "Primeiro passo para construir um modelo é qualificação (aderência) dos clientes atuais, para então poder olhar para o mercado e prever os leads"
   ]
  },
  {
   "cell_type": "markdown",
   "metadata": {},
   "source": []
  },
  {
   "cell_type": "markdown",
   "metadata": {},
   "source": [
    "# Dicas da comunidade:"
   ]
  },
  {
   "cell_type": "markdown",
   "metadata": {},
   "source": [
    "## Objetivo"
   ]
  },
  {
   "cell_type": "markdown",
   "metadata": {},
   "source": [
    "Objetivo do projeto final: \n",
    "\n",
    "1. Com base no mercado (*estaticos_market.csv*) precisamos montar um **modelo de recomendação**, que analisando o portfólio de uma empresa (estaticos_portfolio1.csv, por exemplo, podendo ser qualquer um, inclusive diferente dos 3 fornecidos)  irá retornar os leads (que também são empresas) com maior probabilidade de se tornarem clientes dessa empresa. "
   ]
  },
  {
   "cell_type": "markdown",
   "metadata": {},
   "source": [
    "2. A  princípio seria um modelo de classificação binária, só que irá retornar as probabilidades ao invés da label, sendo elas 1 recomendado e 0 não recomendado."
   ]
  },
  {
   "cell_type": "markdown",
   "metadata": {},
   "source": [
    "3. \n",
    "\n",
    "\n",
    "No problema o sistema  provavelmente vai recomendar leads mais próximos dentro de um perfil de similaridade, mas o que objetivamente diz que aquele é o perfil correto? \n",
    "\n",
    "Eu comparo como umproblema de recomendfar videos no youtube ou musicas no Spotify. Se eu tenho uma grande base de usuários que já tem seus perfis definidos e uma lista de itens (filmes ou musicas) que a pessoa gostou eu posso cruzar com novos que chegam.Eu tenho só 3 portfólios deempresas que são comprovados serem compatíveis.\n",
    "\n",
    "Mas eu tenho uma base com muitas empresas que possuem similaridades e posso dizerque se um cliente tem a empresa A em seu portifólio com determinadas características tenho em minha base X empresas similares a ela. E aí o que vejo na maioria dos sistemas de recommendação não é uma classificação, mas um ranqueamento. Essas são as empresas mais parecidas com a sua baseado nas características dela. Ou mesmo avaliar o portfólio dado como input ver as características mais comuns das empresas e recomendar novamente, mas baseado num ranking, mas novamente me parece que algoritmos de distanciamento sejam a solução mais prática"
   ]
  },
  {
   "cell_type": "markdown",
   "metadata": {},
   "source": [
    "4. (melhor até agora)\n",
    "\n",
    "Chegando agora no grupo, mas pelo que li dos comentários e o que já vi do projeto e dataset, penso que se trata tbm de um sistema de recomendação. Basicamente, temos 3 portfolios com clientes atuais dos nossos usuários, e temos que criar uma ferramenta que recomenda leads com base nesta lista. Me parece muito se tratar de um sistema parecido com Netflix, Spotify ou Ecommerces. Além disso, na descrição do projeto eles pedem que a solução seja agnóstica ao usuário, ou seja, se chegar uma lista totalmente nova, a solução deve identificar os atuais clientes do usuário e recomendar leads com perfil parecido. Se alguém tiver uma conclusão diferente sobre, gostaria de discutir os pontos de vista "
   ]
  },
  {
   "cell_type": "markdown",
   "metadata": {},
   "source": [
    "5. (diz que é supervisionado)\n",
    "\n",
    "Na verdade temos targets sim. Empresas que são clientes podem ter target 1 e não clientes target 0. Isso cria um problema de classificação  (aprendizado supervisionado).\n",
    "\n",
    "E nesse caso acredito que recall seja uma métrica interessante (já que você não quer deixar passar nenhum cliente)."
   ]
  },
  {
   "cell_type": "markdown",
   "metadata": {},
   "source": []
  },
  {
   "cell_type": "markdown",
   "metadata": {},
   "source": []
  },
  {
   "cell_type": "markdown",
   "metadata": {},
   "source": []
  },
  {
   "cell_type": "markdown",
   "metadata": {},
   "source": [
    "## Metodologia"
   ]
  },
  {
   "cell_type": "markdown",
   "metadata": {},
   "source": [
    "1.\n",
    "\n",
    "Eu adotei a seguinte prática: primeiramente eu estou analisando os portfólios e nao o mercado como antes.\n",
    "\n",
    "Meu objetivo é traçar os perfis dos portfólios, entao conclui que se uma feature tem muitos nulos ela não é tão importante assim, pelo menos numa primeira analise.\n",
    "\n",
    "Eu deixei 20% de null como aceitável e estou trabalhando com as features que restaram.\n",
    "\n",
    "Estou fazendo EDA das features tentando entender se elas conseguem modelar razoavelmente ok os leads de cada perfil.\n",
    "\n",
    "Talvez futuramente eu analise melhor as features que removi, mas ate agora nao conclui que seja necessario para o problema em si"
   ]
  },
  {
   "cell_type": "markdown",
   "metadata": {},
   "source": [
    "2.\n",
    "\n",
    "Pessoal, desculpa não poder participar mais ativamente da comunidade.Eu su da equipe de TI da empresa que estáem Home-Office e parece que estou trabalhando mais.\n",
    "\n",
    "Mas essa questão de muitos dados faltantesao invés de tratar com imputações não poderiam ser visto com alguma redução de dimensionalidade tipo umPCA da vida? PCAé muito usado em sistemas de recomendação por exemplo"
   ]
  },
  {
   "cell_type": "markdown",
   "metadata": {},
   "source": [
    "3.\n",
    "\n",
    "eu tive bons resultados usando colunas com menos de 10% valores nullos\n",
    "\n",
    "ai preenchi na mao, dependendo do caso preenchi nullos com a classe majoritaria, ou com medias das colunas\n",
    "\n",
    "usado k-means\n"
   ]
  },
  {
   "cell_type": "markdown",
   "metadata": {},
   "source": [
    "4.\n",
    "\n",
    "\n",
    "Exato Antônio. Ontem  peguei lápis e uma folha para esboçar o problema e cheguei a conclusão que apenas aplicar o kmeans na base não vai resultar muita coisa. Como cada empresa(1,2 e 3) apresenta uma segmentação de clientes(portfólios) muito variada, fica difícil extrair os leads diretamente dos grupos gerados do kmeans na base."
   ]
  },
  {
   "cell_type": "markdown",
   "metadata": {},
   "source": [
    "5.\n",
    "\n",
    "Tenho lido alguns artigos e projetos, e acredito que K means para sistemas de recomendação é um bom método. No meu baseline, que terminei a pouco, utilizando o silhoutte_score do K means, que basicamente é a métrica de avaliação para o modelo, consegui 0.41. Pode ir de -1 a 1, sendo -1 o pior, e 1 a melhor clusterização possível. Caso alguém queira trocar uma ideia, pode me chamar no privado tbm. Ainda estou estudando sobre o modelo, mas acho que é um bom caminho."
   ]
  },
  {
   "cell_type": "markdown",
   "metadata": {},
   "source": []
  },
  {
   "cell_type": "markdown",
   "metadata": {},
   "source": [
    "## Descrição"
   ]
  },
  {
   "cell_type": "markdown",
   "metadata": {},
   "source": [
    "1.\n",
    "\n",
    "Os arquivos csv portfolio2 e portfolio3 só tem 2 colunas mesmo?\n",
    "\n",
    "Isso mesmo, acredito que devemos pegar as informações da base de mercado"
   ]
  },
  {
   "cell_type": "markdown",
   "metadata": {},
   "source": [
    "2. \n",
    "\n",
    "\n",
    "Todos os usuários do portifólio 1, 2, 3  se encontram no dataframe mercado?\n",
    "\n",
    "R: todos estão\n",
    "\n",
    "quais são as leds tenho que recomendar?\n",
    "\n",
    "R: acredito que os com maior aderência. Os leads são as proprias empresas que você vai recomendar."
   ]
  },
  {
   "cell_type": "markdown",
   "metadata": {},
   "source": []
  },
  {
   "cell_type": "markdown",
   "metadata": {},
   "source": [
    "# Meu entendimento"
   ]
  },
  {
   "cell_type": "markdown",
   "metadata": {},
   "source": [
    "Boa noite comunidade,\n",
    "\n",
    "Iniciei a análise do projeto agora, meu entendimento foi o seguinte:\n",
    "\n",
    "Trata-se de um aprendizado não-supervisonado, apesar de não ser abordado nesse curso. A ideia é gerar clusters (grupos) dentro das empresas que estão no mercado (estaticos_marketing).\n",
    "\n",
    "Clusters bons são aqueles que apresentam distâncias pequenas entre elementos intra-clusters e distâncias grandes entre clusters (centróides de cada cluster). Existem métricas específicas para fazer essa avaliação.\n",
    "\n",
    "Com os clusters gerados, tu vê quais pontos (empresas) do mercado são menos distantes dos pontos (portifólio) do usuário, essa é a recomendação! Pode ser definido um raio mínimo, pontos dentro desse raio mínimo configuram uma classificação. Claro que a ideia de \"raio\" só é plausível geometricamente  num domínio de 2 dimensões (2 colunas), mas o algoritmo entende em n dimensões.\n",
    "\n",
    "Quanto aos missings (valores ausentes), não vejo outra saída senão estudar o negócio. Chamei um amigo que entende de business pra me ajudar a entender as variáveis e então seleciona-las, tentando preservar as relevantes (mesmo com muitos missings). Uma análise/exclusão quantitativa genérica do missings pode ocasionar perca de informação valiosa.\n",
    "\n",
    "Os portifólios 1, 2 e 3 podem ser usados junto de uma análise descritivas (visualização dos dados) para saber se o modelo ficou bom, além das métricas próprias de clusters. Ou seja, plotar gráficos vendo se o perfil dos clientes do portifólio 1 é parecido com os pontos/empresas recomendados.\n",
    "\n",
    "Na minha visão é um erro partir da análise dos portifólios, eles são o \"teste\"/input para gerar a recomendação."
   ]
  },
  {
   "cell_type": "markdown",
   "metadata": {},
   "source": []
  },
  {
   "cell_type": "markdown",
   "metadata": {},
   "source": []
  },
  {
   "cell_type": "markdown",
   "metadata": {},
   "source": []
  }
 ],
 "metadata": {
  "kernelspec": {
   "display_name": "Python 3",
   "language": "python",
   "name": "python3"
  },
  "language_info": {
   "codemirror_mode": {
    "name": "ipython",
    "version": 3
   },
   "file_extension": ".py",
   "mimetype": "text/x-python",
   "name": "python",
   "nbconvert_exporter": "python",
   "pygments_lexer": "ipython3",
   "version": "3.7.7"
  }
 },
 "nbformat": 4,
 "nbformat_minor": 4
}
