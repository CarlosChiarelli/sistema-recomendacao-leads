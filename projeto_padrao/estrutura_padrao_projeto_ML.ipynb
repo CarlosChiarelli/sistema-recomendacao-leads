{
 "cells": [
  {
   "cell_type": "markdown",
   "metadata": {},
   "source": [
    "# Canvas - Projeto ML"
   ]
  },
  {
   "cell_type": "markdown",
   "metadata": {},
   "source": [
    "![](canvas_modelo_ml.jpg)"
   ]
  },
  {
   "cell_type": "markdown",
   "metadata": {},
   "source": [
    "### 1. Tarefa de ML\n",
    "\n",
    "\n",
    "Prever as notas de matemática do ENEM 2018.\n",
    "\n",
    "Trata-se de um problema de regressão."
   ]
  },
  {
   "cell_type": "markdown",
   "metadata": {},
   "source": [
    "### 2. Proposta de valor\n",
    "\n",
    "\n",
    "Objetivo é atingir a meta de 90% do desafio da **Codenation**.\n",
    "\n",
    "\n",
    "Um modelo bom o suficiente para atingir essa pontuação."
   ]
  },
  {
   "cell_type": "markdown",
   "metadata": {},
   "source": [
    "### 3. Tomada de decisão\n",
    "\n",
    "\n",
    "No nosso contexto, nenhuma decisão será tomada a partir do modelo preditivo."
   ]
  },
  {
   "cell_type": "markdown",
   "metadata": {},
   "source": [
    "### 4. Frequência das predições\n",
    "\n",
    "\n",
    "As previsões serão feitas apenas uma vez nos dados de teste para submissão."
   ]
  },
  {
   "cell_type": "markdown",
   "metadata": {},
   "source": [
    "### 5. Fontes de dados\n",
    "\n",
    "\n",
    "Os dados já vêm prontos em arquivos \"*.csv*\" , assim não é necessário fazer a mineração deles. "
   ]
  },
  {
   "cell_type": "markdown",
   "metadata": {},
   "source": [
    "### 6. Coleta dos dados\n",
    "\n",
    "\n",
    "Os dados já vêm prontos em arquivos \"*.csv*\" , assim não é necessário fazer a mineração deles."
   ]
  },
  {
   "cell_type": "markdown",
   "metadata": {},
   "source": [
    "### 7. Variáveis do problema\n",
    "\n",
    "\n",
    "Essas variáveis precisam ser exploradas. Contudo já sabemos com antecedência que são dados de alunos que realizaram a prova do ENEM em 2018.\n"
   ]
  },
  {
   "cell_type": "markdown",
   "metadata": {},
   "source": [
    "### 8. Construção dos modelos\n",
    "\n",
    "\n",
    "Começaremos com modelos simples (regressão linear). Em seguida, será testado modelos mais sofisticados que detectam relações não-lineares.\n",
    "\n",
    "A literatura será consultada para saber quais modelos são mais adequados para prever desempenho de alunos de acordo com suas características.\n"
   ]
  },
  {
   "cell_type": "markdown",
   "metadata": {},
   "source": [
    "### 9. Avaliação offline\n",
    "\n",
    "\n",
    "Avaliação realizada na máquina/laboratório local.\n",
    "\n",
    "Métricas serão aplicadas no modelo no conjunto destinado para treino.\n",
    "\n",
    "Não haverá métricas para análise do retorno desse projeto, que estaria ligada à proposta de valor.\n"
   ]
  },
  {
   "cell_type": "markdown",
   "metadata": {},
   "source": [
    "### 10. Avaliação em produção\n",
    "\n",
    "\n",
    "O modelo não será implantado em um sistema de produção."
   ]
  },
  {
   "cell_type": "code",
   "execution_count": null,
   "metadata": {},
   "outputs": [],
   "source": []
  },
  {
   "cell_type": "markdown",
   "metadata": {},
   "source": [
    "# Arquitetura Padrão - Projeto ML"
   ]
  },
  {
   "cell_type": "markdown",
   "metadata": {},
   "source": [
    "Mostrando a arquitetura padrão **desenvolvimento** de um projeto de ML.\n",
    "\n",
    "Trata-se de uma estrutura adotada para ser sempre seguida. O itens são separadas em **classes** durante o desenvolvimento."
   ]
  },
  {
   "cell_type": "markdown",
   "metadata": {},
   "source": [
    "![](estrutura_dev.png)"
   ]
  },
  {
   "cell_type": "markdown",
   "metadata": {},
   "source": [
    "## Fonte de dados\n",
    "\n",
    "\n",
    "* concentra fontes de dados\n",
    "\n",
    "\n",
    "* consumir dados ou unir dados\n",
    "\n",
    "\n",
    "* pegamos dados e trazemos para o processamento"
   ]
  },
  {
   "cell_type": "markdown",
   "metadata": {},
   "source": [
    "## Visualização\n",
    "\n",
    "* trata de todas as visualizações (podendo ser salvas/exportadas)\n",
    "\n",
    "\n",
    "* enxergar performance do modelo e performance dos dados\n",
    "\n",
    "\n",
    "* consumida por todas as demais classes\n",
    "\n",
    "\n",
    "* por exemplo, que visualizar o erro de um modelo sem ter alterar ou executar outros códigos"
   ]
  },
  {
   "cell_type": "markdown",
   "metadata": {},
   "source": [
    "## Pré-processamento\n",
    "\n",
    "\n",
    "* selecão e engenharia de features (variáveis)\n",
    "\n",
    "\n",
    "* normalização, tratamento dos tipos de variáveis\n",
    "\n",
    "\n",
    "* pré-processamento:\n",
    "    * para **treino**\n",
    "    * para **teste**"
   ]
  },
  {
   "cell_type": "markdown",
   "metadata": {},
   "source": [
    "## Métricas\n",
    "\n",
    "\n",
    "* métricas determinadas para o modelo\n",
    "\n",
    "\n",
    "* dentro dessa classe se cria todos tipos de avaliação do modelo\n",
    "\n",
    "\n",
    "* todas essas classes são consumidas nas demais"
   ]
  },
  {
   "cell_type": "markdown",
   "metadata": {},
   "source": [
    "## Experimentos\n",
    "\n",
    "\n",
    "* demanda maior parte do tempo\n",
    "\n",
    "\n",
    "* teste de novos modelos e de hiperparâmetros\n",
    "\n",
    "\n",
    "* são experimentos relacionados aos modelos"
   ]
  },
  {
   "cell_type": "markdown",
   "metadata": {},
   "source": [
    "## Treinamento do modelo\n",
    "\n",
    "\n",
    "* após chegar num modelo aceitável, vou encapsulá-lo dentro desta classe\n",
    "\n",
    "\n",
    "* essa classe irá gerar o modelo pico/principal para ser consumido\n",
    "\n",
    "\n",
    "* por exemplo, re-treino do modelo pico é tratada aqui"
   ]
  },
  {
   "cell_type": "markdown",
   "metadata": {},
   "source": [
    "## Inferência do modelo\n",
    "\n",
    "* pega os dados, pré-processa eles pensando na inferência\n",
    "\n",
    "\n",
    "* recupera o artefato do modelo treinado e realiza a **predição** \n",
    "\n",
    "\n",
    "* retorna esse resultado (predição) que pode ser consumido/salvo na nuvem, num software via API, datamart, dashboard"
   ]
  }
 ],
 "metadata": {
  "kernelspec": {
   "display_name": "Python 3",
   "language": "python",
   "name": "python3"
  },
  "language_info": {
   "codemirror_mode": {
    "name": "ipython",
    "version": 3
   },
   "file_extension": ".py",
   "mimetype": "text/x-python",
   "name": "python",
   "nbconvert_exporter": "python",
   "pygments_lexer": "ipython3",
   "version": "3.7.7"
  }
 },
 "nbformat": 4,
 "nbformat_minor": 4
}
